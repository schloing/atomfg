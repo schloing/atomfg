{
  "cells": [
    {
      "cell_type": "markdown",
      "metadata": {},
      "source": [
        "# atomfg\n",
        "simulation of the quantum-mechanical theory of the atom <br>\n",
        "written in C#, Silk.NET + TrippyGL for graphics\n",
        "\n",
        "### theory, how it works (simplified)\n",
        "\n",
        "classical, one-dimensional linear pde:\n",
        "$ \\dfrac{\\partial^2 u(x,t)}{\\partial x^2} = \n",
        "  \\dfrac{1}{v^2} \\dfrac{\\partial^2 u(x,t)}{\\partial t^2} $ \n",
        "<br>\n",
        "\n",
        "solving using *separation of variables* <br>\n",
        "\n",
        "$ u(x,t)=X(x)T(t) \\\\\n",
        "  u(x,t)=\\sum_i c_ iX_i(x)T_i(t), \\forall c_i $\n",
        "<br><br>\n",
        "\n",
        "find values of $ c_i $ that satisfy boundary conditions <br>\n",
        "substitute separated function into wave equation        <br><br>\n",
        "\n",
        "$ \\dfrac{\\partial^2 X(x)T(t)}{\\partial x^2} = \n",
        "  \\dfrac{1}{v^2} \\dfrac{\\partial^2 X(x)T(t)}{\\partial t^2} \\\\\n",
        "  \\dots \\\\ \\space \\\\\n",
        "  \\dfrac{1}{X(x)} \\dfrac{\\partial^2 X(x)}{\\partial x^2} = \\dfrac{1}{v^2} \\dfrac{1}{T(t)} \\dfrac{\\partial^2T(t)}{\\partial t^2} \\\\ $\n",
        "<br>\n",
        "\n",
        "since the *lhs* depends only on $ x $ and *rhs* depends only on $ y $, \n",
        "the only way for the equation to hold is to have *lhs* = *rhs* = *some constant* $K$ <br>\n",
        "https://www.public.asu.edu/~hhuang38/pde_slides_sepvar-heat.pdf                      <br>"
      ]
    }
  ],
  "metadata": {
    "kernelspec": {
      "display_name": "Python (Pyodide)",
      "language": "python",
      "name": "python"
    },
    "language_info": {
      "codemirror_mode": {
        "name": "python",
        "version": 3
      },
      "file_extension": ".py",
      "mimetype": "text/x-python",
      "name": "python",
      "nbconvert_exporter": "python",
      "pygments_lexer": "ipython3",
      "version": "3.8"
    }
  },
  "nbformat": 4,
  "nbformat_minor": 4
}
